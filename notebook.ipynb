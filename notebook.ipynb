import numpy as np

n = np.array([3,2,1])
print(n)
